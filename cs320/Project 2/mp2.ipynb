{
 "cells": [
  {
   "cell_type": "code",
   "execution_count": 1,
   "id": "e2e64623-038b-4bf1-8105-798aab5ac03b",
   "metadata": {},
   "outputs": [],
   "source": [
    "# project: p2\n",
    "# submitter: sheberlein\n",
    "# partner: none\n",
    "# hours: 8"
   ]
  },
  {
   "cell_type": "code",
   "execution_count": 2,
   "id": "0ed15cc9-eadb-4411-a36e-77f6bfa5160f",
   "metadata": {},
   "outputs": [],
   "source": [
    "import loans\n",
    "import json\n",
    "from search import BST, Node\n",
    "import time\n",
    "import pandas"
   ]
  },
  {
   "cell_type": "code",
   "execution_count": 3,
   "id": "e303e070-4a34-4605-b895-2a43195b2b33",
   "metadata": {},
   "outputs": [],
   "source": [
    "%load_ext autoreload\n",
    "%autoreload 2"
   ]
  },
  {
   "cell_type": "code",
   "execution_count": 4,
   "id": "e97996b1-8d64-4159-9155-659f4d175f6c",
   "metadata": {},
   "outputs": [
    {
     "data": {
      "text/plain": [
       "{'American Indian or Alaska Native', 'Asian', 'Black or African American'}"
      ]
     },
     "execution_count": 4,
     "metadata": {},
     "output_type": "execute_result"
    }
   ],
   "source": [
    "applicant = loans.Applicant(\"20-30\", [\"1\", \"2\", \"3\"])\n",
    "applicant.race"
   ]
  },
  {
   "cell_type": "code",
   "execution_count": 5,
   "id": "04abe484-8902-4b4d-80e5-acde9a122b70",
   "metadata": {},
   "outputs": [
    {
     "data": {
      "text/plain": [
       "Applicant('20-30', ['American Indian or Alaska Native', 'Asian', 'Black or African American'])"
      ]
     },
     "execution_count": 5,
     "metadata": {},
     "output_type": "execute_result"
    }
   ],
   "source": [
    "applicant"
   ]
  },
  {
   "cell_type": "code",
   "execution_count": 6,
   "id": "14a170b6-20a5-4865-b55c-f089b27c860a",
   "metadata": {},
   "outputs": [
    {
     "data": {
      "text/plain": [
       "20"
      ]
     },
     "execution_count": 6,
     "metadata": {},
     "output_type": "execute_result"
    }
   ],
   "source": [
    "applicant.lower_age()"
   ]
  },
  {
   "cell_type": "code",
   "execution_count": 7,
   "id": "184637c0-9a5b-4560-a370-3773be09b1d7",
   "metadata": {},
   "outputs": [
    {
     "data": {
      "text/plain": [
       "[Applicant('20-30', ['American Indian or Alaska Native', 'Black or African American']),\n",
       " Applicant('<25', ['White']),\n",
       " Applicant('35-44', ['Chinese']),\n",
       " Applicant('>75', ['Other Pacific Islander', 'Samoan'])]"
      ]
     },
     "execution_count": 7,
     "metadata": {},
     "output_type": "execute_result"
    }
   ],
   "source": [
    "sorted([\n",
    "    loans.Applicant(\">75\", [\"43\", \"44\"]),\n",
    "    loans.Applicant(\"20-30\", [\"1\", \"3\"]),\n",
    "    loans.Applicant(\"35-44\", [\"22\"]),\n",
    "    loans.Applicant(\"<25\", [\"5\"]),\n",
    "])"
   ]
  },
  {
   "cell_type": "code",
   "execution_count": 8,
   "id": "ea501c90-e183-4e8f-9f85-8398c471cad4",
   "metadata": {},
   "outputs": [],
   "source": [
    "values = {'activity_year': '2021', 'lei': '549300Q76VHK6FGPX546', 'derived_msa-md': '24580', 'state_code': \n",
    "          'WI','county_code': '55009', 'census_tract': '55009020702', 'conforming_loan_limit': 'C', \n",
    "          'derived_loan_product_type': 'Conventional:First Lien', 'derived_dwelling_category': 'Single Family (1-4 Units):Site-Built', \n",
    "          'derived_ethnicity': 'Not Hispanic or Latino', 'derived_race': 'White', 'derived_sex': 'Joint', 'action_taken': '1', \n",
    "          'purchaser_type': '1', 'preapproval': '2', 'loan_type': '1', 'loan_purpose': '31', 'lien_status': '1', \n",
    "          'reverse_mortgage': '2', 'open-end_line_of_credit': '2', 'business_or_commercial_purpose': '2', 'loan_amount': '325000.0', \n",
    "          'loan_to_value_ratio': '73.409', 'interest_rate': '2.5', 'rate_spread': '0.304', 'hoepa_status': '2', \n",
    "          'total_loan_costs': '3932.75', 'total_points_and_fees': 'NA', 'origination_charges': '3117.5', 'discount_points': '', \n",
    "          'lender_credits': '', 'loan_term': '240', 'prepayment_penalty_term': 'NA', 'intro_rate_period': 'NA', \n",
    "          'negative_amortization': '2', 'interest_only_payment': '2', 'balloon_payment': '2', 'other_nonamortizing_features': '2', \n",
    "          'property_value': '445000', 'construction_method': '1', 'occupancy_type': '1', 'manufactured_home_secured_property_type': '3', \n",
    "          'manufactured_home_land_property_interest': '5', 'total_units': '1', 'multifamily_affordable_units': 'NA', 'income': '264', \n",
    "          'debt_to_income_ratio': '20%-<30%', 'applicant_credit_score_type': '2', 'co-applicant_credit_score_type': '9', \n",
    "          'applicant_ethnicity-1': '2', 'applicant_ethnicity-2': '', 'applicant_ethnicity-3': '', 'applicant_ethnicity-4': '', \n",
    "          'applicant_ethnicity-5': '', 'co-applicant_ethnicity-1': '2', 'co-applicant_ethnicity-2': '', 'co-applicant_ethnicity-3': '', \n",
    "          'co-applicant_ethnicity-4': '', 'co-applicant_ethnicity-5': '', 'applicant_ethnicity_observed': '2', \n",
    "          'co-applicant_ethnicity_observed': '2', 'applicant_race-1': '5', 'applicant_race-2': '', 'applicant_race-3': '', \n",
    "          'applicant_race-4': '', 'applicant_race-5': '', 'co-applicant_race-1': '5', 'co-applicant_race-2': '', \n",
    "          'co-applicant_race-3': '', 'co-applicant_race-4': '', 'co-applicant_race-5': '', 'applicant_race_observed': '2', \n",
    "          'co-applicant_race_observed': '2', 'applicant_sex': '1', 'co-applicant_sex': '2', 'applicant_sex_observed': '2', \n",
    "          'co-applicant_sex_observed': '2', 'applicant_age': '35-44', 'co-applicant_age': '35-44', 'applicant_age_above_62': 'No', \n",
    "          'co-applicant_age_above_62': 'No', 'submission_of_application': '1', 'initially_payable_to_institution': '1', 'aus-1': '1', \n",
    "          'aus-2': '', 'aus-3': '', 'aus-4': '', 'aus-5': '', 'denial_reason-1': '10', 'denial_reason-2': '', 'denial_reason-3': '', \n",
    "          'denial_reason-4': '', 'tract_population': '6839', 'tract_minority_population_percent': '8.85999999999999943', \n",
    "          'ffiec_msa_md_median_family_income': '80100', 'tract_to_msa_income_percentage': '150', 'tract_owner_occupied_units': '1701', \n",
    "          'tract_one_to_four_family_homes': '2056', 'tract_median_age_of_housing_units': '15'}\n"
   ]
  },
  {
   "cell_type": "code",
   "execution_count": null,
   "id": "0eb02569-8210-4d5b-b5d7-49209d845134",
   "metadata": {},
   "outputs": [],
   "source": []
  },
  {
   "cell_type": "code",
   "execution_count": 9,
   "id": "0c1eb993-d75e-4eb4-ac96-8337631e73fa",
   "metadata": {},
   "outputs": [
    {
     "data": {
      "text/plain": [
       "2.5"
      ]
     },
     "execution_count": 9,
     "metadata": {},
     "output_type": "execute_result"
    }
   ],
   "source": [
    "loan = loans.Loan(values)\n",
    "loan.interest_rate"
   ]
  },
  {
   "cell_type": "code",
   "execution_count": 10,
   "id": "3fbaace6-de8d-4f62-9d0c-5f0ba7123fdd",
   "metadata": {},
   "outputs": [
    {
     "data": {
      "text/plain": [
       "[Applicant('35-44', ['White']), Applicant('35-44', ['White'])]"
      ]
     },
     "execution_count": 10,
     "metadata": {},
     "output_type": "execute_result"
    }
   ],
   "source": [
    "loan.applicants"
   ]
  },
  {
   "cell_type": "code",
   "execution_count": 11,
   "id": "f433454b-d7c4-416d-94ea-8b6f8e4c5740",
   "metadata": {},
   "outputs": [
    {
     "data": {
      "text/plain": [
       "325000.0"
      ]
     },
     "execution_count": 11,
     "metadata": {},
     "output_type": "execute_result"
    }
   ],
   "source": [
    "loan.loan_amount"
   ]
  },
  {
   "cell_type": "code",
   "execution_count": 12,
   "id": "68673bb6-fe0c-4a58-af5c-5a3f2ad3e115",
   "metadata": {},
   "outputs": [
    {
     "data": {
      "text/plain": [
       "445000.0"
      ]
     },
     "execution_count": 12,
     "metadata": {},
     "output_type": "execute_result"
    }
   ],
   "source": [
    "loan.property_value"
   ]
  },
  {
   "cell_type": "code",
   "execution_count": 13,
   "id": "b7052f20-5b17-46dd-9498-d70b7c96e6cd",
   "metadata": {},
   "outputs": [
    {
     "name": "stdout",
     "output_type": "stream",
     "text": [
      "<Loan: 2.5% on $445000.0 with 2 applicant(s)>\n"
     ]
    },
    {
     "data": {
      "text/plain": [
       "<Loan: 2.5% on $445000.0 with 2 applicant(s)>"
      ]
     },
     "execution_count": 13,
     "metadata": {},
     "output_type": "execute_result"
    }
   ],
   "source": [
    "print(loan)\n",
    "loan"
   ]
  },
  {
   "cell_type": "code",
   "execution_count": 14,
   "id": "dc3ea010-a1ad-459c-b1b0-0e8914572633",
   "metadata": {},
   "outputs": [],
   "source": [
    "#for amt in loan.yearly_amounts(30000):\n",
    "    #print(amt)"
   ]
  },
  {
   "cell_type": "code",
   "execution_count": 15,
   "id": "43abb542-9ab1-448f-be24-fdc8f84644ad",
   "metadata": {},
   "outputs": [],
   "source": [
    "#uwcu = loans.Bank(\"University of Wisconsin Credit Union\")\n",
    "#uwcu.lei"
   ]
  },
  {
   "cell_type": "code",
   "execution_count": 16,
   "id": "0802eba1-14f0-4209-9be7-0f70efd59322",
   "metadata": {},
   "outputs": [],
   "source": [
    "#uwcu.load_from_zip(\"./wi.zip\")"
   ]
  },
  {
   "cell_type": "code",
   "execution_count": 17,
   "id": "c9a02f31-df50-41a5-8087-563a35963140",
   "metadata": {},
   "outputs": [],
   "source": [
    "#print(uwcu.loanlist[-1])"
   ]
  },
  {
   "cell_type": "code",
   "execution_count": 18,
   "id": "703e44be-c705-4885-92f2-59cf348b96bf",
   "metadata": {},
   "outputs": [],
   "source": [
    "#print(len(uwcu.loanlist))"
   ]
  },
  {
   "cell_type": "code",
   "execution_count": 19,
   "id": "c2550672-2b4f-42eb-b31c-fa7d9f3e6627",
   "metadata": {},
   "outputs": [],
   "source": [
    "#print(uwcu[-1])"
   ]
  },
  {
   "cell_type": "code",
   "execution_count": 20,
   "id": "1858250b-8d15-4e31-836a-3fa5c2d4732e",
   "metadata": {},
   "outputs": [],
   "source": [
    "#print(len(uwcu))"
   ]
  },
  {
   "cell_type": "code",
   "execution_count": 21,
   "id": "0df8e8b1-5e82-43ec-a56d-cb1c2215c026",
   "metadata": {},
   "outputs": [],
   "source": [
    "#bank = loans.Bank(\"First Home Bank\")\n",
    "#bank.load_from_zip(\"wi.zip\")"
   ]
  },
  {
   "cell_type": "code",
   "execution_count": 22,
   "id": "dad86e18-c6fa-4d89-b5eb-f9a58582be53",
   "metadata": {},
   "outputs": [],
   "source": [
    "#print(bank[10].property_value)"
   ]
  },
  {
   "cell_type": "code",
   "execution_count": 23,
   "id": "0ca24a38-d6f0-42e0-ba20-5458ef7003c6",
   "metadata": {},
   "outputs": [
    {
     "name": "stdout",
     "output_type": "stream",
     "text": [
      "C : [33]\n",
      "B : [22]\n",
      "A : [9, 5]\n"
     ]
    }
   ],
   "source": [
    "tree = BST()\n",
    "tree.add(\"A\", 9)\n",
    "tree.add(\"A\", 5)\n",
    "tree.add(\"B\", 22)\n",
    "tree.add(\"C\", 33)\n",
    "tree.dump()"
   ]
  },
  {
   "cell_type": "code",
   "execution_count": 24,
   "id": "c3b5eb95-a0f0-4f84-bb99-109eec66879a",
   "metadata": {},
   "outputs": [],
   "source": [
    "t = BST()\n",
    "t.add(\"B\", 3)\n",
    "assert len(t.root) == 1\n",
    "t.add(\"A\", 2)\n",
    "assert len(t.root) == 2\n",
    "t.add(\"C\", 1)\n",
    "assert len(t.root) == 3\n",
    "t.add(\"C\", 4)\n",
    "assert len(t.root) == 4"
   ]
  },
  {
   "cell_type": "code",
   "execution_count": 25,
   "id": "9fd440e2-f549-41c4-8ae3-d79ae089fd65",
   "metadata": {},
   "outputs": [
    {
     "name": "stdout",
     "output_type": "stream",
     "text": [
      "[2]\n",
      "[1, 4]\n",
      "[]\n"
     ]
    }
   ],
   "source": [
    "print(t.root.lookup(\"A\"))\n",
    "print(t.root.lookup(\"C\"))\n",
    "print(t.root.lookup(\"Z\"))"
   ]
  },
  {
   "cell_type": "code",
   "execution_count": 26,
   "id": "79eec561-88b2-4b9b-981e-ee35dfd746d5",
   "metadata": {},
   "outputs": [],
   "source": [
    "bank = loans.Bank(\"Charles Schwab Bank, SSB\")\n",
    "bank.load_from_zip(\"./wi.zip\")"
   ]
  },
  {
   "cell_type": "code",
   "execution_count": 27,
   "id": "accb35b8-7afd-4406-a20a-e0fe150e56a3",
   "metadata": {},
   "outputs": [
    {
     "data": {
      "text/plain": [
       "2.957772277227724"
      ]
     },
     "execution_count": 27,
     "metadata": {},
     "output_type": "execute_result"
    }
   ],
   "source": [
    "#Q1\n",
    "thing = bank.average_interest_rate()\n",
    "thing"
   ]
  },
  {
   "cell_type": "code",
   "execution_count": 28,
   "id": "faabc60b-4284-4021-bf8c-3adf6fd6063b",
   "metadata": {},
   "outputs": [
    {
     "data": {
      "text/plain": [
       "1.7227722772277227"
      ]
     },
     "execution_count": 28,
     "metadata": {},
     "output_type": "execute_result"
    }
   ],
   "source": [
    "#Q2\n",
    "avg_apps = bank.num_applicants() / len(bank)\n",
    "avg_apps"
   ]
  },
  {
   "cell_type": "code",
   "execution_count": 29,
   "id": "795f5dd1-1e27-45f6-8a16-97e9cabcd682",
   "metadata": {},
   "outputs": [
    {
     "data": {
      "text/plain": [
       "{'25-34': 5, '35-44': 25, '45-54': 36, '55-64': 55, '65-74': 41, '>74': 12}"
      ]
     },
     "execution_count": 29,
     "metadata": {},
     "output_type": "execute_result"
    }
   ],
   "source": [
    "#Q3\n",
    "bank.ages_dict()"
   ]
  },
  {
   "cell_type": "code",
   "execution_count": 30,
   "id": "fad0b2ea-e1bc-4c61-8e76-b55b492d5ea4",
   "metadata": {},
   "outputs": [],
   "source": [
    "t1 = BST()\n",
    "for loan in bank.loanlist:\n",
    "    t1.add(loan.interest_rate, loan)"
   ]
  },
  {
   "cell_type": "code",
   "execution_count": 31,
   "id": "ed541030-204a-4c67-a401-005901d12e78",
   "metadata": {},
   "outputs": [
    {
     "data": {
      "text/plain": [
       "1"
      ]
     },
     "execution_count": 31,
     "metadata": {},
     "output_type": "execute_result"
    }
   ],
   "source": [
    "#Q4\n",
    "num = len(t1[-1])\n",
    "num"
   ]
  },
  {
   "cell_type": "code",
   "execution_count": 32,
   "id": "e9c4d997-9c70-456d-8d4b-61bfc0f570e2",
   "metadata": {},
   "outputs": [
    {
     "data": {
      "text/plain": [
       "9"
      ]
     },
     "execution_count": 32,
     "metadata": {},
     "output_type": "execute_result"
    }
   ],
   "source": [
    "#Q5\n",
    "t1.get_height(t1.root)"
   ]
  },
  {
   "cell_type": "code",
   "execution_count": 33,
   "id": "d32df250-4ae0-4f4e-af23-efaf4bc150d4",
   "metadata": {},
   "outputs": [],
   "source": [
    "wibank = loans.Bank(\"University of Wisconsin Credit Union\")\n",
    "wibank.load_from_zip(\"./wi.zip\")"
   ]
  },
  {
   "cell_type": "code",
   "execution_count": 34,
   "id": "b01e5f48-a979-4060-90d5-cd6eda92523b",
   "metadata": {},
   "outputs": [
    {
     "data": {
      "text/plain": [
       "Text(0, 0.5, 'Total Elapsed Milliseconds')"
      ]
     },
     "execution_count": 34,
     "metadata": {},
     "output_type": "execute_result"
    },
    {
     "data": {
      "image/png": "[encoded data removed]",
      "text/plain": [
       "<Figure size 640x480 with 1 Axes>"
      ]
     },
     "metadata": {},
     "output_type": "display_data"
    }
   ],
   "source": [
    "#Q6\n",
    "start = time.time()\n",
    "time_dict = {}\n",
    "counter = 0\n",
    "t2 = BST()\n",
    "for loan in wibank.loanlist:\n",
    "    counter += 1\n",
    "    time_elapsed = (time.time() - start) * 1000\n",
    "    time_dict[counter] = time_elapsed\n",
    "    t2.add(loan.interest_rate, loan)\n",
    "\n",
    "plot1 = pandas.Series(time_dict).plot.line()\n",
    "plot1.set_xlabel(\"BST Adds\")\n",
    "plot1.set_ylabel(\"Total Elapsed Milliseconds\")"
   ]
  },
  {
   "cell_type": "code",
   "execution_count": 35,
   "id": "ce22f176-b1b3-4b9f-871a-305ea1eeb1b0",
   "metadata": {},
   "outputs": [
    {
     "data": {
      "text/plain": [
       "Text(0, 0.5, 'Milliseconds')"
      ]
     },
     "execution_count": 35,
     "metadata": {},
     "output_type": "execute_result"
    },
    {
     "data": {
      "image/png": "[encoded data removed]",
      "text/plain": [
       "<Figure size 640x480 with 1 Axes>"
      ]
     },
     "metadata": {},
     "output_type": "display_data"
    }
   ],
   "source": [
    "#Q7\n",
    "time_dict1 = {}\n",
    "ir_counter = 0\n",
    "start1 = time.time()\n",
    "for loan in wibank:\n",
    "    if loan.interest_rate == None:\n",
    "        ir_counter += 1\n",
    "end1 = time.time()\n",
    "time_dict1[\"Loop\"] = (end1 - start1) * 1000\n",
    "\n",
    "start2 = time.time()\n",
    "len(t2[-1])\n",
    "end2 = time.time()\n",
    "time_dict1[\"BST\"] = (end2 - start2) * 1000\n",
    "\n",
    "plot2 = pandas.Series(time_dict1).plot.bar()\n",
    "plot2.set_ylabel(\"Milliseconds\")"
   ]
  },
  {
   "cell_type": "code",
   "execution_count": 36,
   "id": "0ecffdd9-bab6-4a2d-9817-99c2f6541082",
   "metadata": {},
   "outputs": [
    {
     "data": {
      "text/plain": [
       "Text(0, 0.5, 'Number of Applicants')"
      ]
     },
     "execution_count": 36,
     "metadata": {},
     "output_type": "execute_result"
    },
    {
     "data": {
      "image/png": "[encoded data removed]",
      "text/plain": [
       "<Figure size 640x480 with 1 Axes>"
      ]
     },
     "metadata": {},
     "output_type": "display_data"
    }
   ],
   "source": [
    "#Q8\n",
    "race_dict = {}\n",
    "for loan in wibank:\n",
    "    for applicant in loan.applicants:\n",
    "        if len(applicant.race) not in race_dict:\n",
    "            race_dict[len(applicant.race)] = 1\n",
    "        else:\n",
    "            race_dict[len(applicant.race)] += 1\n",
    "\n",
    "race_dict = dict(sorted(race_dict.items()))\n",
    "plot3 = pandas.Series(race_dict).plot.bar()\n",
    "plot3.set_xlabel(\"Number of Race Selections\")\n",
    "plot3.set_ylabel(\"Number of Applicants\")"
   ]
  },
  {
   "cell_type": "code",
   "execution_count": 37,
   "id": "8403014f-758f-4664-8df7-25a6cb9205d4",
   "metadata": {},
   "outputs": [
    {
     "data": {
      "text/plain": [
       "9"
      ]
     },
     "execution_count": 37,
     "metadata": {},
     "output_type": "execute_result"
    }
   ],
   "source": [
    "#Q9\n",
    "num_nonleaf = t2.num_nonleaf_nodes(t2.root)\n",
    "total_nodes = t2.total_nodes(t2.root)\n",
    "num_leaf = total_nodes - num_nonleaf\n",
    "num_leaf"
   ]
  },
  {
   "cell_type": "code",
   "execution_count": 38,
   "id": "bf517a17-44e9-449c-afbe-f691377af091",
   "metadata": {},
   "outputs": [
    {
     "data": {
      "text/plain": [
       "5.0"
      ]
     },
     "execution_count": 38,
     "metadata": {},
     "output_type": "execute_result"
    }
   ],
   "source": [
    "#Q10\n",
    "top4 = t2.top_n_return(4)\n",
    "fourth_largest = top4[0]\n",
    "fourth_largest"
   ]
  },
  {
   "cell_type": "code",
   "execution_count": null,
   "id": "ac5e2484-27b3-4a90-b23d-cd2f19b722ef",
   "metadata": {},
   "outputs": [],
   "source": []
  }
 ],
 "metadata": {
  "kernelspec": {
   "display_name": "Python 3 (ipykernel)",
   "language": "python",
   "name": "python3"
  },
  "language_info": {
   "codemirror_mode": {
    "name": "ipython",
    "version": 3
   },
   "file_extension": ".py",
   "mimetype": "text/x-python",
   "name": "python",
   "nbconvert_exporter": "python",
   "pygments_lexer": "ipython3",
   "version": "3.10.12"
  }
 },
 "nbformat": 4,
 "nbformat_minor": 5
}
