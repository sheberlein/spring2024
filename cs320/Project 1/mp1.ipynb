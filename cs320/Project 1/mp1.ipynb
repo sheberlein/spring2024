# project: p1
# submitter: sheberlein
# partner: none
# hours: 6
# import statements
import json
import os
import pandas
from subprocess import check_output
import subprocess
import time
import numpy
#Q1
type(8/3)
#Q2
x = 4
maximum = 15
minimum = 5
error = not x in (minimum, maximum) # False if x is inside the minimum-to-maximum range
error
#Q3
word = "QUOTIDIAN"
suffix_match = word.lower()[-3:] == "ian" # .endswith(...) method not allowed for this question! (practice slicing)
suffix_match
def check_sum(x=0, y=0, z=0):
    if (x + y == z):
        return True
    else:
        return False
#Q4
check_sum(0.1, 0.2, 0.3)
#Q5
check_sum(-1, 1)
#Q6
x = 4
if x % 2 == 1:
    status = "odd"
elif x % 2 == 0:
    status = "even"
else:
    status = "non-integer"
status
nums = [3, 4, 1, 6]
for x in nums:
    print(x)
def neg_sum(listy):
    total = 0
    for num in listy:
        if num >= 0:
            continue
        total += num
        if total <= -20:
            break
    return total
#Q7
neg_sum(nums)
#Q8
neg_sum([-5, 1, -11, -6, 15, -1, 8, 2])
header = ["A", "B", "C"]

coord1 = {"x": 8, "y": 5}
coord2 = {"x": 9, "y": 2, "z" : 4}
coord3 = {"x": 3, "y": 1, "z" : 7}

rows = [
    [1, 6, 7, 8, coord1],
    [3, 4, 9, coord2],
    [5, 2, coord3],
]
#Q9
coord3["w"] = 6
rows
#Q10
rows[0][-1]["x"]
#Q11
import copy
v2 = copy.copy(rows)
v2[0] = 404    # first change
v2[1][1] = 404 # second change
rows
#Q12
sum1 = 0
for listy in rows:
    sum1 += listy[header.index("B")]
sum1
#Q13
rows.sort(key=lambda row: row[header.index("B")])
rows
#Q14
f = open("usd.json")
data = f.read()
f.close()
print(type(data))
print(data[:300] + "...")
var = json.loads(data)
exchange_rate = var["cad"]["rate"]
canadian_dollars = exchange_rate * 1000
canadian_dollars
def divide(a, b):
    try:
        result = a / b
        return result
    except ZeroDivisionError:
        return float("nan")
#Q15
divide(5, 2)
#Q16
divide(0, 0)
years = {}
for item in os.listdir("home-computers"):
    if item.endswith(".csv"):
        position = item.find(".")
        year = item[(position - 4):position]
        df = pandas.read_csv(os.path.join("home-computers", item), header = 1)
        df = df.set_index('Geographic Area Name')
        years[int(year)] = df
#Q17
year_list = list(years.keys())
year_list.sort()
year_list
#Q18
df2021 = years[2021]
df2021.loc["Wisconsin", "Estimate!!Total"]
#Q19
s1 = df2021["Estimate!!Total!!No Computer"]
s1.sum()
#Q20
s2 = df2021["Margin of Error!!Total!!No Computer"]
s3 = s2 / s1
s3.max()
#Q21
dicty1 = {}
s_no_computer = df2021["Estimate!!Total!!No Computer"]
s_total = df2021["Estimate!!Total"]
dicty1["Illinois"] = (s_no_computer["Illinois"] / s_total["Illinois"]) * 100
dicty1["Indiana"] = (s_no_computer["Indiana"] / s_total["Indiana"]) * 100
dicty1["Iowa"] = (s_no_computer["Iowa"] / s_total["Iowa"]) * 100
dicty1["Michigan"] = (s_no_computer["Michigan"] / s_total["Michigan"]) * 100
dicty1["Minnesota"] = (s_no_computer["Minnesota"] / s_total["Minnesota"]) * 100
dicty1["Wisconsin"] = (s_no_computer["Wisconsin"] / s_total["Wisconsin"]) * 100
dicty1
#Q22
plot1 = pandas.Series(dicty1).plot.bar()
plot1.set_xlabel("Geographic Area Name")
plot1.set_ylabel("% of Households w/o Computers")
#Q23
d = {}
l = []
for year in years:
    d[year] = years[year].loc["Wisconsin", "Estimate!!Total!!No Computer"] / 1000
    l.append(year)
graph = pandas.Series(d).sort_values().plot.line(xticks = l)
graph.set_xlabel("Year")
graph.set_ylabel("WI Households without Computers (thousands)")
#Q24
newdf = df2021.copy()
newdf["Estimate!!Total!!Has one or more types of computing devices!!Smartphone"] = newdf["Estimate!!Total!!Has one or more types of computing devices!!Smartphone"] / 1000000
newdf["Estimate!!Total!!Has one or more types of computing devices!!Tablet or other portable wireless computer"] = newdf["Estimate!!Total!!Has one or more types of computing devices!!Tablet or other portable wireless computer"] / 1000000
plot3 = newdf.plot.scatter(x = "Estimate!!Total!!Has one or more types of computing devices!!Smartphone", y = "Estimate!!Total!!Has one or more types of computing devices!!Tablet or other portable wireless computer")
plot3.set_xlabel("Smartphones (millions)")
plot3.set_ylabel("Tablets (millions)")

#Q25
check_output("git checkout main", cwd = "flask", shell = True, encoding = "utf-8")
output = check_output("git log", cwd="flask", shell = True, encoding = "utf-8")
output_list = output.split("\n")
first_line = output_list[0]
first_line
#Q26
check_output("git checkout main", cwd = "flask", shell = True, encoding = "utf-8")
commits10 = []
for item in output_list:
    if item.startswith("commit"):
        commits10.append(item)
actual_commits = commits10[-10:]
actual_commits2 = []
for item in actual_commits:
    actual_commits2.append(item[7:])
actual_commits2
#Q27
check_output("git checkout main", cwd = "flask", shell = True, encoding = "utf-8")
commit100 = commits10[-100][7:]
check_output("git checkout " + commit100, cwd="flask", shell = True, encoding = "utf-8")
f = open(os.path.join("flask", "README"))
data2 = f.read()
f.close()
data2
#Q28
check_output("git checkout main", cwd = "flask", shell = True, encoding = "utf-8")
author_dict = {}
for item in output_list:
    if "Merge pull request" in item and "/" in item:
        end = item.find("/")
        start = item.find("from ")
        author = item[start + 5:end]
        if author not in author_dict:
            author_dict[author] = 1
        else:
            author_dict[author] += 1
real_authors = {}
for item in author_dict:
    if author_dict[item] >= 10:
        real_authors[item] = author_dict[item]
real_authors
#Q29
try:
    msg = check_output(["pip3", "instal"], stderr=subprocess.STDOUT, encoding = "utf-8")
except subprocess.CalledProcessError as e:
    msg = e.output
msg
#Q30
def rand_df(rows):
    return pandas.DataFrame(numpy.random.randint(10, size=(rows, 5)),
                        columns=["A", "B", "C", "D", "E"],
                        index=[f"r{i}" for i in range(1, rows+1)])
iterrowsdict = {}
i = 1000
while i <= 5000:
    df = rand_df(i)
    t0 = time.time()
    # HOW LONG DOES THIS TAKE TO RUN, FOR DATAFRAMES WITH DIFFERENT NUMBERS OF ROWS?
    for row in df.iterrows():
        pass
    t1 = time.time()
    iterrowsdict[i] = t1 - t0
    i += 1000

itertuplesdict = {}
j = 1000
while j <= 5000:
    df = rand_df(j)
    t0 = time.time()
    # HOW LONG DOES THIS TAKE TO RUN, FOR DATAFRAMES WITH DIFFERENT NUMBERS OF ROWS?
    for row in df.itertuples():
        pass
    t1 = time.time()
    itertuplesdict[j] = t1 - t0
    j += 1000

combined_df = pandas.DataFrame()
combined_df.at[1000, "iterrows"] = iterrowsdict[1000] * 1000
combined_df.at[1000, "itertuples"] = itertuplesdict[1000] * 1000
combined_df.at[2000, "iterrows"] = iterrowsdict[2000] * 1000
combined_df.at[2000, "itertuples"] = itertuplesdict[2000] * 1000
combined_df.at[3000, "iterrows"] = iterrowsdict[3000] * 1000
combined_df.at[3000, "itertuples"] = itertuplesdict[3000] * 1000
combined_df.at[4000, "iterrows"] = iterrowsdict[4000] * 1000
combined_df.at[4000, "itertuples"] = itertuplesdict[4000] * 1000
combined_df.at[5000, "iterrows"] = iterrowsdict[5000] * 1000
combined_df.at[5000, "itertuples"] = itertuplesdict[5000] * 1000
combined_graph = combined_df.plot.line(xticks = [1000, 2000, 3000, 4000, 5000])
combined_graph.set_xlabel("Rows")
combined_graph.set_ylabel("Milliseconds")
#Q31
locdict = {}
k = 1000
total = 0
while k <= 5000:
    df8 = rand_df(k)
    t0 = time.time()
    for idx in df8.index:
        for col in df8.columns:
            total += df8.loc[idx, col]
    t1 = time.time()
    locdict[k] = t1 - t0
    k += 1000

atdict = {}
p = 1000
total = 0
while p <= 5000:
    df9 = rand_df(p)
    t0 = time.time()
    for idx in df9.index:
        for col in df9.columns:
            total += df9.at[idx, col]
    t1 = time.time()
    atdict[p] = t1 - t0
    p += 1000
    
cd = pandas.DataFrame()
cd.at[1000, "loc"] = locdict[1000] * 1000
cd.at[1000, "at"] = atdict[1000] * 1000
cd.at[2000, "loc"] = locdict[2000] * 1000
cd.at[2000, "at"] = atdict[2000] * 1000
cd.at[3000, "loc"] = locdict[3000] * 1000
cd.at[3000, "at"] = atdict[3000] * 1000
cd.at[4000, "loc"] = locdict[4000] * 1000
cd.at[4000, "at"] = atdict[4000] * 1000
cd.at[5000, "loc"] = locdict[5000] * 1000
cd.at[5000, "at"] = atdict[5000] * 1000
cg = cd.plot.line(xticks = [1000, 2000, 3000, 4000, 5000])
cg.set_xlabel("Rows")
cg.set_ylabel("Milliseconds")
#Q32
def laugh(x):
    return "qwerty" * x

applydict = {}
k = 4000
while k <= 20000:
    df = rand_df(k)
    t0 = time.time()
    result = df["A"].apply(laugh).tolist()
    t1 = time.time()
    applydict[k] = t1 - t0
    k += 4000

loopdict = {}
p = 4000
while p <= 20000:
    df9 = rand_df(p)
    t0 = time.time()
    result = []
    for val in df["A"]:
        result.append(laugh(val))
    t1 = time.time()
    loopdict[p] = t1 - t0
    p += 4000
    
cd1 = pandas.DataFrame()
cd1.at[4000, "apply"] = applydict[4000] * 1000
cd1.at[4000, "loop"] = loopdict[4000] * 1000
cd1.at[8000, "apply"] = applydict[8000] * 1000
cd1.at[8000, "loop"] = loopdict[8000] * 1000
cd1.at[12000, "apply"] = applydict[12000] * 1000
cd1.at[12000, "loop"] = loopdict[12000] * 1000
cd1.at[16000, "apply"] = applydict[16000] * 1000
cd1.at[16000, "loop"] = loopdict[16000] * 1000
cd1.at[20000, "apply"] = applydict[20000] * 1000
cd1.at[20000, "loop"] = loopdict[20000] * 1000
cg1 = cd1.plot.line(xticks = [4000, 8000, 12000, 16000, 20000])
cg1.set_xlabel("Rows")
cg1.set_ylabel("Milliseconds")

